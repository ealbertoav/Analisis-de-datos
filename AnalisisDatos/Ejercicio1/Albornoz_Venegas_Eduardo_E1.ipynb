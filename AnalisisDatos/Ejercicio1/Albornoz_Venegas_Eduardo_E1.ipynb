{
 "cells": [
  {
   "cell_type": "markdown",
   "id": "accc3b15",
   "metadata": {},
   "source": [
    "# Ejercicio Evaluado 1"
   ]
  },
  {
   "cell_type": "markdown",
   "id": "f2619039",
   "metadata": {},
   "source": [
    "###  Datos Alumno\n",
    "\n",
    "<ul>\n",
    "<li><b>Nombre</b>: Eduardo Alberto Albornoz Venegas</li>\n",
    "<li><b>Fecha</b>: 07/09/2021</li>\n",
    "<li><b>Mail</b>: ealbertoav@gmail.com</li>\n",
    "</ul>"
   ]
  },
  {
   "cell_type": "markdown",
   "id": "1a3a92b6",
   "metadata": {},
   "source": [
    "### 2) String (Total 4 pts)\n",
    "Cree una variable de tipo string con el siguiente texto:\n",
    "\n",
    "Python es un lenguaje de programación interpretado cuya filosofía hace\n",
    "hincapié en la legibilidad de su código. Es un lenguaje interpretado,\n",
    "dinámico y multiplataforma."
   ]
  },
  {
   "cell_type": "code",
   "execution_count": 1,
   "id": "58967096",
   "metadata": {
    "pycharm": {
     "name": "#%%\n"
    }
   },
   "outputs": [
    {
     "name": "stdout",
     "output_type": "stream",
     "text": [
      "PYTHON ES UN LENGUAJE DE PROGRAMACIÓN INTERPRETADO CUYA FILOSOFÍA HACE HINCAPIÉ EN LA LEGIBILIDAD DE SU CÓDIGO. ES UN LENGUAJE INTERPRETADO,DINÁMICO Y MULTIPLATAFORMA\n",
      "El total de letras 'a' es: 15\n",
      "La letra en la posicion 0 es: P\n",
      "La letra en la posicion 59 es: o\n",
      "La letra en la posicion 13 es: l\n",
      "La letra en la posicion 18 es: a\n",
      "La letra en la posicion 131 es: r\n",
      "La sub-cadena desde la posision 55 en adelante es:  filosofía hace hincapié en la legibilidad de su código. Es un lenguaje interpretado,dinámico y multiplataforma\n"
     ]
    }
   ],
   "source": [
    "#Ej2\n",
    "string_1 = \"Python es un lenguaje de programación interpretado cuya filosofía hace hincapié en la legibilidad de su código. Es un lenguaje interpretado,dinámico y multiplataforma\"\n",
    "\n",
    "#Ej2a\n",
    "print(string_1.upper())\n",
    "\n",
    "#Ej2b\n",
    "print(\"El total de letras 'a' es: \" + str(string_1.count(\"a\")))\n",
    "\n",
    "#Ej2c\n",
    "print(\"La letra en la posicion 0 es: \" + string_1[0])\n",
    "print(\"La letra en la posicion 59 es: \" + string_1[59])\n",
    "print(\"La letra en la posicion 13 es: \" + string_1[13])\n",
    "print(\"La letra en la posicion 18 es: \" + string_1[18])\n",
    "print(\"La letra en la posicion 131 es: \" + string_1[131])\n",
    "\n",
    "#Ej2d\n",
    "print(\"La sub-cadena desde la posision 55 en adelante es: \" + str(string_1[55:]))"
   ]
  },
  {
   "cell_type": "markdown",
   "id": "64190786",
   "metadata": {},
   "source": [
    "### 3) Listas (Total 5 pts)"
   ]
  },
  {
   "cell_type": "code",
   "execution_count": 2,
   "id": "b18d83a4",
   "metadata": {
    "pycharm": {
     "name": "#%%\n"
    }
   },
   "outputs": [
    {
     "name": "stdout",
     "output_type": "stream",
     "text": [
      "La sub-lista es: ['d', 'e', 'f']\n",
      "La posicion del caracter 'e' es: 4\n",
      "La sub-lista desde 'e' en adelante es: ['e', 'f', 'g', 'h', 'i', 'j']\n",
      "a b c d e f g h i j\n"
     ]
    }
   ],
   "source": [
    "#Ej3a\n",
    "list_1 = ['a', 'b', 'c', 'd', 'e', 'f', 'g', 'h', 'i', 'j']\n",
    "\n",
    "#Eje3b\n",
    "print(\"La sub-lista es: \" + str(list_1[3:6]))\n",
    "\n",
    "#Eje3c\n",
    "print(\"La posicion del caracter 'e' es: \" + str(list_1.index('e')))\n",
    "\n",
    "#Eje3d\n",
    "subListIndex = list_1.index('e')\n",
    "print(\"La sub-lista desde 'e' en adelante es: \" + str(list_1[subListIndex:]))\n",
    "\n",
    "#Eje3e\n",
    "print(*list_1)"
   ]
  },
  {
   "cell_type": "markdown",
   "id": "7333b4f6",
   "metadata": {},
   "source": [
    "### 4) Sumatoria (Total 4 pts)\n",
    "\n",
    "Sumar sólo los números pares entre 1 y 100 y mostrar el resultado."
   ]
  },
  {
   "cell_type": "code",
   "execution_count": 3,
   "id": "73d42074",
   "metadata": {
    "pycharm": {
     "name": "#%%\n"
    }
   },
   "outputs": [
    {
     "name": "stdout",
     "output_type": "stream",
     "text": [
      "La suma de los numeros pares entre 1 y 100 es:  2550\n"
     ]
    }
   ],
   "source": [
    "#Eje4\n",
    "suma = 0\n",
    "for i in range(1, 100 + 1):\n",
    "    if i % 2 == 0:\n",
    "        suma += i\n",
    "\n",
    "print('La suma de los numeros pares entre 1 y 100 es: ', suma)"
   ]
  },
  {
   "cell_type": "markdown",
   "id": "4f8487f2",
   "metadata": {},
   "source": [
    "### 5) Figuras usando ciclos (Total 3 pts)\n",
    "\n",
    "Escribir un programa que pida al usuario ingresar un número entero, impar mayor o igual que 5\n",
    "(>= 5) y que muestre por pantalla la siguiente figura. (usar ciclos)"
   ]
  },
  {
   "cell_type": "code",
   "execution_count": null,
   "id": "8775f03b",
   "metadata": {
    "pycharm": {
     "name": "#%%\n"
    }
   },
   "outputs": [],
   "source": [
    "n = int(input('Ingrese un numero impar, mayor o igual a 5'))\n",
    "\n",
    "contain_1 = ''\n",
    "for i in range(n + 1):\n",
    "    for j in range(i):\n",
    "        contain_1 += '+'\n",
    "    if i != n + 1:\n",
    "        contain_1 += '\\n'\n",
    "\n",
    "contain_2 = ''\n",
    "for i in range(n):\n",
    "    for j in range(n - i):\n",
    "        contain_2 += '+'\n",
    "    contain_2 += '\\n'\n",
    "print(contain_1 + contain_2)"
   ]
  },
  {
   "cell_type": "markdown",
   "id": "1455e552",
   "metadata": {},
   "source": [
    "### 6) Funciones (Total 10 pts)\n",
    "\n",
    "Crear una programa calculadora que pueda sumar, restar, dividir y multiplicar. Para ello crear\n",
    "una función menu() (2 pts), preguntando al usuario que opción desea seleccionar y\n",
    "retornando la opción:"
   ]
  },
  {
   "cell_type": "code",
   "execution_count": null,
   "id": "ae2b7264",
   "metadata": {
    "pycharm": {
     "name": "#%%\n"
    }
   },
   "outputs": [],
   "source": [
    "#Eje6\n",
    "\n",
    "# This function adds two numbers\n",
    "def add(x, y):\n",
    "    return x + y\n",
    "\n",
    "\n",
    "# This function subtracts two numbers\n",
    "def subtract(x, y):\n",
    "    return x - y\n",
    "\n",
    "\n",
    "# This function multiplies two numbers\n",
    "def multiply(x, y):\n",
    "    return x * y\n",
    "\n",
    "\n",
    "# This function divides two numbers\n",
    "def divide(x, y):\n",
    "    return x / y\n",
    "\n",
    "\n",
    "print(\"Seleccione una operacion: \")\n",
    "print(\"1.Suma\")\n",
    "print(\"2.Resta\")\n",
    "print(\"3.Multiplicacion\")\n",
    "print(\"4.Division\")\n",
    "print(\"5.Salir\")\n",
    "\n",
    "while True:\n",
    "    # take input from the user\n",
    "    choice = input(\"Seleccione una operacion\\n1.Suma\\n2.Resta\\n3.Multiplicacion\\n4.Division\\n5.Salir\")\n",
    "\n",
    "    # check if choice is one of the four options\n",
    "    if choice in ('1', '2', '3', '4'):\n",
    "        num1 = float(input(\"Ingrese el primer numero: \"))\n",
    "        num2 = float(input(\"ingrese el segundo numero: \"))\n",
    "\n",
    "        if choice == '1':\n",
    "            print(num1, \"+\", num2, \"=\", add(num1, num2))\n",
    "\n",
    "        elif choice == '2':\n",
    "            print(num1, \"-\", num2, \"=\", subtract(num1, num2))\n",
    "\n",
    "        elif choice == '3':\n",
    "            print(num1, \"*\", num2, \"=\", multiply(num1, num2))\n",
    "\n",
    "        elif choice == '4':\n",
    "            print(num1, \"/\", num2, \"=\", divide(num1, num2))\n",
    "\n",
    "        # check if user wants another calculation\n",
    "        # break the while loop if the choice is 5\n",
    "        next_calculation = input(\"Para salir presione 5: \")\n",
    "        if next_calculation == \"5\":\n",
    "            break\n",
    "\n",
    "    else:\n",
    "        print(\"Invalid Input\")"
   ]
  },
  {
   "cell_type": "markdown",
   "id": "ad8025fd",
   "metadata": {},
   "source": [
    "### 7) Matrices (Total 10 pts)"
   ]
  },
  {
   "cell_type": "code",
   "execution_count": 27,
   "id": "1b722cf6",
   "metadata": {
    "pycharm": {
     "name": "#%%\n"
    }
   },
   "outputs": [
    {
     "name": "stdout",
     "output_type": "stream",
     "text": [
      "Matriz A:\n",
      "\n",
      "[[5. 5. 5. 5. 5. 5. 5. 5.]\n",
      " [5. 5. 5. 5. 5. 5. 5. 5.]\n",
      " [5. 5. 5. 5. 5. 5. 5. 5.]\n",
      " [5. 5. 5. 5. 5. 5. 5. 5.]\n",
      " [5. 5. 5. 5. 5. 5. 5. 5.]]\n",
      "\n",
      "Matriz B:\n",
      "\n",
      "[[5. 5. 5. 5. 5. 5. 5. 5.]\n",
      " [5. 5. 5. 5. 5. 5. 5. 5.]\n",
      " [9. 9. 9. 9. 9. 9. 9. 9.]\n",
      " [5. 5. 5. 5. 5. 5. 5. 5.]\n",
      " [5. 5. 5. 5. 5. 5. 5. 5.]]\n",
      "\n",
      "Matriz C:\n",
      "\n",
      "[[  5.   5.   5.   5. 115.   5.   5.   5.]\n",
      " [  5.   5.   5.   5. 115.   5.   5.   5.]\n",
      " [  9.   9.   9.   9. 207.   9.   9.   9.]\n",
      " [  5.   5.   5.   5. 115.   5.   5.   5.]\n",
      " [  5.   5.   5.   5. 115.   5.   5.   5.]]\n",
      "\n",
      "Matriz D:\n",
      "\n",
      "[[  5.   5.   5.   5. 115.   5.   5.   5.]\n",
      " [  9.   9.   9.   9. 207.   9.   9.   9.]]\n",
      "\n",
      "El promedio de la sub-matriz con la fila 2 y 3 de la matriz 'C' es: 26.25\n"
     ]
    }
   ],
   "source": [
    "import numpy as np\n",
    "\n",
    "#Eje7a\n",
    "A = np.zeros((5, 8))\n",
    "A += 5\n",
    "print(\"Matriz A:\\n\")\n",
    "print(A)\n",
    "\n",
    "#Eje7b\n",
    "A[2] += 4\n",
    "B = A\n",
    "print(\"\\nMatriz B:\\n\")\n",
    "print(B)\n",
    "\n",
    "#Eje7c\n",
    "B[:, 4] *= 23\n",
    "C = B\n",
    "print(\"\\nMatriz C:\\n\")\n",
    "print(C)\n",
    "\n",
    "#Eje7d\n",
    "D = B[1:3]\n",
    "print(\"\\nMatriz D:\\n\")\n",
    "print(D)\n",
    "\n",
    "promedio = np.mean(D)\n",
    "print(\"\\nEl promedio de la sub-matriz con la fila 2 y 3 de la matriz 'C' es: \" + str(promedio))"
   ]
  },
  {
   "cell_type": "markdown",
   "id": "e875ae43",
   "metadata": {},
   "source": [
    "### 8) Matrices/arreglos (Total 5 pts)"
   ]
  },
  {
   "cell_type": "code",
   "execution_count": 20,
   "id": "12de84d3",
   "metadata": {
    "pycharm": {
     "name": "#%%\n"
    }
   },
   "outputs": [
    {
     "name": "stdout",
     "output_type": "stream",
     "text": [
      "M = \n",
      "[[  5   4  90  88]\n",
      " [ 48   6  57   8]\n",
      " [  9  14  11  12]\n",
      " [ 32   1  99 101]]\n",
      "La Matriz es de tipo: <class 'numpy.ndarray'>\n",
      "La Matriz es de forma: (4, 4)\n",
      "La catidad de elementos son: 16\n",
      "El tipo de dato es: int64\n"
     ]
    }
   ],
   "source": [
    "from numpy import array as array_de_numpy\n",
    "\n",
    "#Eje8a\n",
    "M = array_de_numpy([[5, 4, 90, 88], [48, 6, 57, 8], [9, 14, 11, 12], [32, 1, 99, 101]])\n",
    "print(\"M = \\n\" + str(M))\n",
    "\n",
    "#Eje8b\n",
    "print(\"La Matriz es de tipo: \" + str(type(M)))\n",
    "\n",
    "#Eje8c\n",
    "print(\"La Matriz es de forma: \" + str(M.shape))\n",
    "\n",
    "#Eje8d\n",
    "print(\"La catidad de elementos son: \" + str(M.size))\n",
    "\n",
    "#Eje8e\n",
    "print(\"El tipo de dato es: \" + str(M.dtype))\n"
   ]
  },
  {
   "cell_type": "markdown",
   "id": "cdd9bf12",
   "metadata": {
    "pycharm": {
     "name": "#%% md\n"
    }
   },
   "source": [
    "### 9) Gráficos (Total 8 pts)"
   ]
  },
  {
   "cell_type": "code",
   "execution_count": 26,
   "id": "9cead576",
   "metadata": {
    "pycharm": {
     "name": "#%%\n"
    }
   },
   "outputs": [
    {
     "data": {
      "image/png": "[encoded data removed]",
      "text/plain": [
       "<Figure size 432x288 with 1 Axes>"
      ]
     },
     "metadata": {
      "needs_background": "light"
     },
     "output_type": "display_data"
    }
   ],
   "source": [
    "import matplotlib.pyplot as plt\n",
    "import numpy as np\n",
    "\n",
    "\n",
    "def f1(x):\n",
    "    return (4 * ((x) ** 2)) + (6 * (x)) - 2\n",
    "\n",
    "\n",
    "x1_values = np.linspace(-10, 35)\n",
    "\n",
    "\n",
    "def f2(x):\n",
    "    return 50 * (x) + 1\n",
    "\n",
    "\n",
    "x2_values = np.linspace(-10, 35)\n",
    "\n",
    "plt.plot(x1_values, f1(x1_values))\n",
    "plt.plot(x2_values, f2(x2_values))\n",
    "\n",
    "# Add labels\n",
    "plt.title('Gráfico de f(x) usando np.linspace')\n",
    "plt.xlabel('x1')\n",
    "plt.ylabel('f(x)')\n",
    "\n",
    "plt.show()"
   ]
  },
  {
   "cell_type": "markdown",
   "id": "ae415127",
   "metadata": {},
   "source": [
    "### Ejercicio Comodin"
   ]
  },
  {
   "cell_type": "code",
   "execution_count": null,
   "id": "f1ac7ba0",
   "metadata": {
    "pycharm": {
     "name": "#%%\n"
    }
   },
   "outputs": [],
   "source": [
    "suma = 0\n",
    "for i in range(1, 100 + 1):\n",
    "    suma += i\n",
    "\n",
    "print('La suma de todos los numeros entre 1 y 100 es: ', suma)"
   ]
  }
 ],
 "metadata": {
  "kernelspec": {
   "display_name": "PyCharm (GitHub)",
   "language": "python",
   "name": "pycharm-91699715"
  },
  "language_info": {
   "codemirror_mode": {
    "name": "ipython",
    "version": 3
   },
   "file_extension": ".py",
   "mimetype": "text/x-python",
   "name": "python",
   "nbconvert_exporter": "python",
   "pygments_lexer": "ipython3",
   "version": "3.9.7"
  }
 },
 "nbformat": 4,
 "nbformat_minor": 5
}
