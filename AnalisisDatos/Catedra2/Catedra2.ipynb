{
 "cells": [
  {
   "cell_type": "markdown",
   "id": "154522b1",
   "metadata": {},
   "source": [
    "# Catedra 2 | Parte 1"
   ]
  },
  {
   "cell_type": "markdown",
   "id": "fdcc468f",
   "metadata": {},
   "source": [
    "###  Datos Alumno\n",
    "\n",
    "<ul>\n",
    "<li><b>Nombre</b>: Eduardo Alberto Albornoz Venegas</li>\n",
    "<li><b>Fecha</b>: 30/11/2021</li>\n",
    "<li><b>Mail</b>: ealbertoav@gmail.com</li>\n",
    "</ul>"
   ]
  },
  {
   "cell_type": "code",
   "execution_count": 4,
   "id": "0ef9e843",
   "metadata": {},
   "outputs": [],
   "source": [
    "import numpy as np\n",
    "import pandas as pd"
   ]
  },
  {
   "cell_type": "code",
   "execution_count": 4,
   "id": "a1507e41",
   "metadata": {},
   "outputs": [],
   "source": []
  },
  {
   "cell_type": "markdown",
   "id": "a74f678b",
   "metadata": {},
   "source": [
    "# Pregunta 1"
   ]
  },
  {
   "cell_type": "code",
   "execution_count": 17,
   "id": "d6ddb700",
   "metadata": {},
   "outputs": [
    {
     "data": {
      "text/plain": "               Region  Codigo region                          Comuna  \\\n0  Arica y Parinacota             15                           Arica   \n1  Arica y Parinacota             15                       Camarones   \n2  Arica y Parinacota             15                   General Lagos   \n3  Arica y Parinacota             15                           Putre   \n4  Arica y Parinacota             15  Desconocido Arica y Parinacota   \n\n   Codigo comuna  Poblacion  Casos Confirmados  \n0        15101.0   247552.0            30536.0  \n1        15102.0     1233.0               70.0  \n2        15202.0      810.0               88.0  \n3        15201.0     2515.0              213.0  \n4            NaN        NaN              175.0  ",
      "text/html": "<div>\n<style scoped>\n    .dataframe tbody tr th:only-of-type {\n        vertical-align: middle;\n    }\n\n    .dataframe tbody tr th {\n        vertical-align: top;\n    }\n\n    .dataframe thead th {\n        text-align: right;\n    }\n</style>\n<table border=\"1\" class=\"dataframe\">\n  <thead>\n    <tr style=\"text-align: right;\">\n      <th></th>\n      <th>Region</th>\n      <th>Codigo region</th>\n      <th>Comuna</th>\n      <th>Codigo comuna</th>\n      <th>Poblacion</th>\n      <th>Casos Confirmados</th>\n    </tr>\n  </thead>\n  <tbody>\n    <tr>\n      <th>0</th>\n      <td>Arica y Parinacota</td>\n      <td>15</td>\n      <td>Arica</td>\n      <td>15101.0</td>\n      <td>247552.0</td>\n      <td>30536.0</td>\n    </tr>\n    <tr>\n      <th>1</th>\n      <td>Arica y Parinacota</td>\n      <td>15</td>\n      <td>Camarones</td>\n      <td>15102.0</td>\n      <td>1233.0</td>\n      <td>70.0</td>\n    </tr>\n    <tr>\n      <th>2</th>\n      <td>Arica y Parinacota</td>\n      <td>15</td>\n      <td>General Lagos</td>\n      <td>15202.0</td>\n      <td>810.0</td>\n      <td>88.0</td>\n    </tr>\n    <tr>\n      <th>3</th>\n      <td>Arica y Parinacota</td>\n      <td>15</td>\n      <td>Putre</td>\n      <td>15201.0</td>\n      <td>2515.0</td>\n      <td>213.0</td>\n    </tr>\n    <tr>\n      <th>4</th>\n      <td>Arica y Parinacota</td>\n      <td>15</td>\n      <td>Desconocido Arica y Parinacota</td>\n      <td>NaN</td>\n      <td>NaN</td>\n      <td>175.0</td>\n    </tr>\n  </tbody>\n</table>\n</div>"
     },
     "execution_count": 17,
     "metadata": {},
     "output_type": "execute_result"
    }
   ],
   "source": [
    "df = pd.read_csv('casosConfirmados.csv')\n",
    "df.head()"
   ]
  },
  {
   "cell_type": "code",
   "execution_count": 18,
   "outputs": [
    {
     "name": "stdout",
     "output_type": "stream",
     "text": [
      "<class 'pandas.core.frame.DataFrame'>\n",
      "RangeIndex: 362 entries, 0 to 361\n",
      "Data columns (total 6 columns):\n",
      " #   Column             Non-Null Count  Dtype  \n",
      "---  ------             --------------  -----  \n",
      " 0   Region             362 non-null    object \n",
      " 1   Codigo region      362 non-null    int64  \n",
      " 2   Comuna             362 non-null    object \n",
      " 3   Codigo comuna      346 non-null    float64\n",
      " 4   Poblacion          346 non-null    float64\n",
      " 5   Casos Confirmados  362 non-null    float64\n",
      "dtypes: float64(3), int64(1), object(2)\n",
      "memory usage: 17.1+ KB\n",
      "None\n"
     ]
    }
   ],
   "source": [
    "# a)\n",
    "print(df.info())"
   ],
   "metadata": {
    "collapsed": false,
    "pycharm": {
     "name": "#%%\n"
    }
   }
  },
  {
   "cell_type": "code",
   "execution_count": 19,
   "outputs": [
    {
     "name": "stdout",
     "output_type": "stream",
     "text": [
      "(362, 6)\n"
     ]
    }
   ],
   "source": [
    "# b)\n",
    "print(df.shape)"
   ],
   "metadata": {
    "collapsed": false,
    "pycharm": {
     "name": "#%%\n"
    }
   }
  },
  {
   "cell_type": "code",
   "execution_count": 20,
   "outputs": [
    {
     "name": "stdout",
     "output_type": "stream",
     "text": [
      "Index(['Region', 'Codigo region', 'Comuna', 'Codigo comuna', 'Poblacion',\n",
      "       'Casos Confirmados'],\n",
      "      dtype='object')\n"
     ]
    }
   ],
   "source": [
    "# c)\n",
    "print(df.columns)"
   ],
   "metadata": {
    "collapsed": false,
    "pycharm": {
     "name": "#%%\n"
    }
   }
  },
  {
   "cell_type": "code",
   "execution_count": 21,
   "outputs": [
    {
     "data": {
      "text/plain": "       Codigo region  Codigo comuna      Poblacion  Casos Confirmados\ncount     362.000000     346.000000     346.000000         362.000000\nmean        8.784530    9034.997110   56237.890173        5515.997238\nstd         3.884479    3818.147431   88945.967089        9049.254608\nmin         1.000000    1101.000000     137.000000           1.000000\n25%         6.000000    6109.250000    9649.250000         814.000000\n50%         8.000000    8313.500000   19770.000000        1852.500000\n75%        13.000000   13102.750000   55441.250000        5245.000000\nmax        16.000000   16305.000000  645909.000000       74969.000000",
      "text/html": "<div>\n<style scoped>\n    .dataframe tbody tr th:only-of-type {\n        vertical-align: middle;\n    }\n\n    .dataframe tbody tr th {\n        vertical-align: top;\n    }\n\n    .dataframe thead th {\n        text-align: right;\n    }\n</style>\n<table border=\"1\" class=\"dataframe\">\n  <thead>\n    <tr style=\"text-align: right;\">\n      <th></th>\n      <th>Codigo region</th>\n      <th>Codigo comuna</th>\n      <th>Poblacion</th>\n      <th>Casos Confirmados</th>\n    </tr>\n  </thead>\n  <tbody>\n    <tr>\n      <th>count</th>\n      <td>362.000000</td>\n      <td>346.000000</td>\n      <td>346.000000</td>\n      <td>362.000000</td>\n    </tr>\n    <tr>\n      <th>mean</th>\n      <td>8.784530</td>\n      <td>9034.997110</td>\n      <td>56237.890173</td>\n      <td>5515.997238</td>\n    </tr>\n    <tr>\n      <th>std</th>\n      <td>3.884479</td>\n      <td>3818.147431</td>\n      <td>88945.967089</td>\n      <td>9049.254608</td>\n    </tr>\n    <tr>\n      <th>min</th>\n      <td>1.000000</td>\n      <td>1101.000000</td>\n      <td>137.000000</td>\n      <td>1.000000</td>\n    </tr>\n    <tr>\n      <th>25%</th>\n      <td>6.000000</td>\n      <td>6109.250000</td>\n      <td>9649.250000</td>\n      <td>814.000000</td>\n    </tr>\n    <tr>\n      <th>50%</th>\n      <td>8.000000</td>\n      <td>8313.500000</td>\n      <td>19770.000000</td>\n      <td>1852.500000</td>\n    </tr>\n    <tr>\n      <th>75%</th>\n      <td>13.000000</td>\n      <td>13102.750000</td>\n      <td>55441.250000</td>\n      <td>5245.000000</td>\n    </tr>\n    <tr>\n      <th>max</th>\n      <td>16.000000</td>\n      <td>16305.000000</td>\n      <td>645909.000000</td>\n      <td>74969.000000</td>\n    </tr>\n  </tbody>\n</table>\n</div>"
     },
     "execution_count": 21,
     "metadata": {},
     "output_type": "execute_result"
    }
   ],
   "source": [
    "# d)\n",
    "df.describe()"
   ],
   "metadata": {
    "collapsed": false,
    "pycharm": {
     "name": "#%%\n"
    }
   }
  },
  {
   "cell_type": "code",
   "execution_count": 23,
   "outputs": [
    {
     "data": {
      "text/plain": "Metropolitana         53\nValparaíso            39\nO’Higgins             34\nBiobío                34\nAraucanía             33\nMaule                 31\nLos Lagos             31\nÑuble                 22\nCoquimbo              16\nLos Ríos              13\nMagallanes            12\nAysén                 11\nAntofagasta           10\nAtacama               10\nTarapacá               8\nArica y Parinacota     5\nName: Region, dtype: int64"
     },
     "execution_count": 23,
     "metadata": {},
     "output_type": "execute_result"
    }
   ],
   "source": [
    "# e)\n",
    "df[\"Region\"].value_counts()"
   ],
   "metadata": {
    "collapsed": false,
    "pycharm": {
     "name": "#%%\n"
    }
   }
  },
  {
   "cell_type": "markdown",
   "id": "f6a229a1",
   "metadata": {},
   "source": [
    "# Pregunta 2\n",
    "\n",
    "a) La indexación booleana es un tipo de indexación que utiliza valores reales de los datos en el DataFrame. En la indexación booleana, podemos filtrar datos de cuatro formas:\n",
    "- Accediendo a un DataFrame con un índice booleano\n",
    "- Aplicar una máscara booleana a un marco de datos\n",
    "- Enmascaramiento de datos según el valor de la columna\n",
    "- Enmascaramiento de datos según el valor del índice"
   ]
  },
  {
   "cell_type": "code",
   "execution_count": 15,
   "id": "186b7257",
   "metadata": {},
   "outputs": [
    {
     "name": "stdout",
     "output_type": "stream",
     "text": [
      "         name  degree  score\n",
      "True   aparna     MBA     90\n",
      "False  pankaj     BCA     40\n",
      "True   sudhir  M.Tech     80\n",
      "False   Geeku     MBA     98\n"
     ]
    }
   ],
   "source": [
    "# Ejemplo\n",
    "dict = {'name': [\"aparna\", \"pankaj\", \"sudhir\", \"Geeku\"],\n",
    "        'degree': [\"MBA\", \"BCA\", \"M.Tech\", \"MBA\"],\n",
    "        'score': [90, 40, 80, 98]}\n",
    "\n",
    "df = pd.DataFrame(dict, index=[True, False, True, False])\n",
    "\n",
    "print(df)"
   ]
  },
  {
   "cell_type": "markdown",
   "id": "626b1392",
   "metadata": {},
   "source": [
    "b) La indexación por nombres"
   ]
  },
  {
   "cell_type": "code",
   "execution_count": 16,
   "id": "a7c7dfbb",
   "metadata": {},
   "outputs": [
    {
     "name": "stdout",
     "output_type": "stream",
     "text": [
      "0     True\n",
      "1     True\n",
      "2    False\n",
      "3     True\n",
      "Name: degree, dtype: bool\n"
     ]
    }
   ],
   "source": [
    "dict = {'name': [\"aparna\", \"pankaj\", \"sudhir\", \"Geeku\"],\n",
    "        'degree': [\"BCA\", \"BCA\", \"M.Tech\", \"BCA\"],\n",
    "        'score': [90, 40, 80, 98]}\n",
    "\n",
    "df = pd.DataFrame(dict)\n",
    "\n",
    "print(df['degree'] == 'BCA')"
   ]
  },
  {
   "cell_type": "markdown",
   "id": "8469a1bd",
   "metadata": {},
   "source": [
    "# Pregunta 3"
   ]
  },
  {
   "cell_type": "code",
   "id": "0ca8107b",
   "metadata": {
    "pycharm": {
     "name": "#%%\n"
    }
   },
   "source": [
    "# Paso 1: Colectar Datos\n",
    "# Paso 2: Preparar los datos\n",
    "# Paso 3: Elegir el modelo\n",
    "# Paso 4: Entrenar nuestra máquina\n",
    "# Paso 5: Evaluación\n",
    "# Paso 6: Parameter Tuning (configuración de parámetros)\n",
    "# Paso 7: Predicción o Inferencia\n",
    "# Paso 8: Interpretación del Modelo"
   ],
   "execution_count": null,
   "outputs": []
  },
  {
   "cell_type": "markdown",
   "source": [
    "# Pregunta 4"
   ],
   "metadata": {
    "collapsed": false
   }
  },
  {
   "cell_type": "markdown",
   "id": "09144fcf",
   "metadata": {
    "pycharm": {
     "name": "#%% md\n"
    }
   },
   "source": [
    "a) Visualización Univariante: El término análisis univariado se refiere al análisis de una variable.\n",
    "El propósito del análisis univariado es comprender la distribución de valores para una sola variable.\n",
    "La forma más común de realizar un análisis univariado es describir una variable utilizando estadísticas de resumen .\n",
    "\n",
    "b) Visualización multivariante: el análisis de dos o más variables"
   ]
  },
  {
   "cell_type": "markdown",
   "id": "4f6fa5b1",
   "metadata": {},
   "source": [
    "# Pregunta 5"
   ]
  },
  {
   "cell_type": "markdown",
   "id": "3e8dfb40",
   "metadata": {},
   "source": [
    "Describir cómo funciona T-SNE: El algoritmo t-SNE calcula una medida de similitud entre pares de instancias en el espacio de alta dimensión y en el espacio de baja dimensión.\n",
    "\n",
    "Describir cómo funciona PCA: construye una transformación lineal que escoge un nuevo sistema de coordenadas para el conjunto original de datos en el cual la varianza de mayor tamaño del conjunto de datos es capturada en el primer eje (llamado el Primer Componente Principal), la segunda varianza más grande es el segundo eje, y así sucesivamente. Para construir esta transformación lineal debe construirse primero la matriz de covarianza o matriz de coeficientes de correlación. Debido a la simetría de esta matriz existe una base completa de vectores propios de la misma. La transformación que lleva de las antiguas coordenadas a las coordenadas de la nueva base es precisamente la transformación lineal necesaria para reducir la dimensionalidad de datos. Además las coordenadas en la nueva base dan la composición en factores subyacentes de los datos iniciales\n",
    "\n",
    "Algoritmo t-SNE vs PCA:\n",
    "- PCA se desarrolló en 1933, mientras que t-SNE se desarrolló en 2008\n",
    "- PCA es una técnica de reducción de dimensión lineal que busca maximizar la varianza y preserva las distancias pares grandes.\n",
    "\n",
    "t-SNE difiere de PCA al preservar solo pequeñas distancias por pares o similitudes locales, mientras que PCA se preocupa por preservar distancias pares grandes para maximizar la varianza."
   ]
  },
  {
   "cell_type": "markdown",
   "id": "147e39b2",
   "metadata": {
    "pycharm": {
     "name": "#%% md\n"
    }
   },
   "source": [
    "# Pregunta 6"
   ]
  },
  {
   "cell_type": "markdown",
   "id": "1a373724",
   "metadata": {
    "pycharm": {
     "name": "#%% md\n"
    }
   },
   "source": [
    "¿Qué son las Redes de Similitud de secuencia?\n",
    "\n",
    "Es la suma de puntuaciones de parejas de residuos alineados tras restar penalizaciones por inserciones y deleciones"
   ]
  }
 ],
 "metadata": {
  "kernelspec": {
   "display_name": "Python 3 (ipykernel)",
   "language": "python",
   "name": "python3"
  },
  "language_info": {
   "codemirror_mode": {
    "name": "ipython",
    "version": 3
   },
   "file_extension": ".py",
   "mimetype": "text/x-python",
   "name": "python",
   "nbconvert_exporter": "python",
   "pygments_lexer": "ipython3",
   "version": "3.9.7"
  }
 },
 "nbformat": 4,
 "nbformat_minor": 5
}