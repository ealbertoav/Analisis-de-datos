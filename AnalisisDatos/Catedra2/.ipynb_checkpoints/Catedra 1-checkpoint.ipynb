{
 "cells": [
  {
   "cell_type": "markdown",
   "id": "154522b1",
   "metadata": {},
   "source": [
    "# Catedra 1"
   ]
  },
  {
   "cell_type": "markdown",
   "id": "fdcc468f",
   "metadata": {},
   "source": [
    "###  Datos Alumno\n",
    "\n",
    "<ul>\n",
    "<li><b>Nombre</b>: Eduardo Alberto Albornoz Venegas</li>\n",
    "<li><b>Fecha</b>: 12/10/2021</li>\n",
    "<li><b>Mail</b>: ealbertoav@gmail.com</li>\n",
    "</ul>"
   ]
  },
  {
   "cell_type": "code",
   "execution_count": 14,
   "id": "0ef9e843",
   "metadata": {},
   "outputs": [],
   "source": [
    "import numpy as np \n",
    "import pandas as pd"
   ]
  },
  {
   "cell_type": "code",
   "execution_count": 15,
   "id": "a1507e41",
   "metadata": {},
   "outputs": [
    {
     "data": {
      "text/plain": [
       "array([[44, 44, 44, 44, 44, 44, 44, 44],\n",
       "       [44, 44, 44, 44, 44, 44, 44, 44],\n",
       "       [44, 44, 44, 44, 44, 44, 44, 44],\n",
       "       [44, 44, 44, 44, 44, 44, 44, 44],\n",
       "       [44, 44, 44, 44, 44, 44, 44, 44],\n",
       "       [44, 44, 44, 44, 44, 44, 44, 44],\n",
       "       [44, 44, 44, 44, 44, 44, 44, 44],\n",
       "       [44, 44, 44, 44, 44, 44, 44, 44]])"
      ]
     },
     "execution_count": 15,
     "metadata": {},
     "output_type": "execute_result"
    }
   ],
   "source": [
    "A = np.full((8, 8), 44)\n",
    "A"
   ]
  },
  {
   "cell_type": "code",
   "execution_count": 16,
   "id": "9f6e265b",
   "metadata": {},
   "outputs": [
    {
     "data": {
      "text/plain": [
       "array([[44, 44, 44, 44, 44, 44, 44, 44],\n",
       "       [44, 44, 44, 44, 44, 44, 44, 44],\n",
       "       [44, 44, 44, 44, 44, 44, 44, 44],\n",
       "       [44, 44, 44, 44, 44, 44, 44, 44],\n",
       "       [44, 44, 44, 44, 44, 44, 44, 44],\n",
       "       [49, 49, 49, 49, 49, 49, 49, 49],\n",
       "       [44, 44, 44, 44, 44, 44, 44, 44],\n",
       "       [44, 44, 44, 44, 44, 44, 44, 44]])"
      ]
     },
     "execution_count": 16,
     "metadata": {},
     "output_type": "execute_result"
    }
   ],
   "source": [
    "A[5, :] += 5\n",
    "A"
   ]
  },
  {
   "cell_type": "code",
   "execution_count": 17,
   "id": "7e04de7d",
   "metadata": {},
   "outputs": [
    {
     "data": {
      "text/plain": [
       "array([[ 44,  44,  44,  44,  44, 396,  44,  44],\n",
       "       [ 44,  44,  44,  44,  44, 396,  44,  44],\n",
       "       [ 44,  44,  44,  44,  44, 396,  44,  44],\n",
       "       [ 44,  44,  44,  44,  44, 396,  44,  44],\n",
       "       [ 44,  44,  44,  44,  44, 396,  44,  44],\n",
       "       [ 49,  49,  49,  49,  49, 441,  49,  49],\n",
       "       [ 44,  44,  44,  44,  44, 396,  44,  44],\n",
       "       [ 44,  44,  44,  44,  44, 396,  44,  44]])"
      ]
     },
     "execution_count": 17,
     "metadata": {},
     "output_type": "execute_result"
    }
   ],
   "source": [
    "A[:, 5] *= 9\n",
    "A"
   ]
  },
  {
   "cell_type": "code",
   "execution_count": 18,
   "id": "5fc4893b",
   "metadata": {},
   "outputs": [
    {
     "data": {
      "text/plain": [
       "array([[ 44,  44,  44,  44,  44, 396,  44,  44],\n",
       "       [ 44,  44,  44,  44,  44, 396,  44,  44],\n",
       "       [ 49,  49,  49,  49,  49, 441,  49,  49]])"
      ]
     },
     "execution_count": 18,
     "metadata": {},
     "output_type": "execute_result"
    }
   ],
   "source": [
    "A2 = A[2, :]\n",
    "A3 = A[3, :]\n",
    "A5 = A[5, :]\n",
    "B = np.stack((A2, A3, A5), axis=0)\n",
    "B"
   ]
  },
  {
   "cell_type": "code",
   "execution_count": 19,
   "id": "d926ccad",
   "metadata": {},
   "outputs": [
    {
     "data": {
      "text/plain": [
       "98.0"
      ]
     },
     "execution_count": 19,
     "metadata": {},
     "output_type": "execute_result"
    }
   ],
   "source": [
    "B[2].mean()"
   ]
  },
  {
   "cell_type": "markdown",
   "id": "6ae0cede",
   "metadata": {},
   "source": [
    "# Pregunta B"
   ]
  },
  {
   "cell_type": "code",
   "execution_count": 20,
   "id": "10ef38d4",
   "metadata": {},
   "outputs": [
    {
     "data": {
      "text/plain": [
       "187500"
      ]
     },
     "execution_count": 20,
     "metadata": {},
     "output_type": "execute_result"
    }
   ],
   "source": [
    "def sum_odd_between_500_and_1000():\n",
    "    arr = np.arange(500, 1001)\n",
    "    total = 0\n",
    "    for num in arr:\n",
    "        if not num % 2 == 0:\n",
    "            total += num\n",
    "    return total\n",
    "\n",
    "sum_odd_between_500_and_1000()"
   ]
  },
  {
   "cell_type": "code",
   "execution_count": 21,
   "id": "f5adad65",
   "metadata": {},
   "outputs": [
    {
     "name": "stdout",
     "output_type": "stream",
     "text": [
      "Ingrese un número: 32\n",
      "Es par\n"
     ]
    }
   ],
   "source": [
    "num = int(input(\"Ingrese un número: \"))\n",
    "if num % 2 == 0:\n",
    "    print(\"Es par\")\n",
    "else:\n",
    "    print(\"Es impar\")"
   ]
  },
  {
   "cell_type": "code",
   "execution_count": 22,
   "id": "069f0a5e",
   "metadata": {},
   "outputs": [
    {
     "data": {
      "image/png": "[encoded data removed]",
      "text/plain": [
       "<Figure size 432x288 with 1 Axes>"
      ]
     },
     "metadata": {
      "needs_background": "light"
     },
     "output_type": "display_data"
    }
   ],
   "source": [
    "import matplotlib.pyplot as plt\n",
    "\n",
    "def f1(x):\n",
    "    return 2 * x ** 2 + 10 * x - 5\n",
    "\n",
    "def f2(x):\n",
    "    return 24 * x + 3\n",
    "\n",
    "x = np.linspace(0, 5)\n",
    "\n",
    "plt.plot(x, f1(x), f2(x));"
   ]
  },
  {
   "cell_type": "markdown",
   "id": "a74f678b",
   "metadata": {},
   "source": [
    "# Pregunta D"
   ]
  },
  {
   "cell_type": "code",
   "execution_count": 23,
   "id": "d6ddb700",
   "metadata": {},
   "outputs": [
    {
     "data": {
      "text/html": [
       "<div>\n",
       "<style scoped>\n",
       "    .dataframe tbody tr th:only-of-type {\n",
       "        vertical-align: middle;\n",
       "    }\n",
       "\n",
       "    .dataframe tbody tr th {\n",
       "        vertical-align: top;\n",
       "    }\n",
       "\n",
       "    .dataframe thead th {\n",
       "        text-align: right;\n",
       "    }\n",
       "</style>\n",
       "<table border=\"1\" class=\"dataframe\">\n",
       "  <thead>\n",
       "    <tr style=\"text-align: right;\">\n",
       "      <th></th>\n",
       "      <th>Region</th>\n",
       "      <th>Codigo region</th>\n",
       "      <th>Comuna</th>\n",
       "      <th>Codigo comuna</th>\n",
       "      <th>Poblacion</th>\n",
       "      <th>Casos Confirmados</th>\n",
       "    </tr>\n",
       "  </thead>\n",
       "  <tbody>\n",
       "    <tr>\n",
       "      <th>0</th>\n",
       "      <td>Arica y Parinacota</td>\n",
       "      <td>15</td>\n",
       "      <td>Arica</td>\n",
       "      <td>15101.0</td>\n",
       "      <td>247552.0</td>\n",
       "      <td>30536.0</td>\n",
       "    </tr>\n",
       "    <tr>\n",
       "      <th>1</th>\n",
       "      <td>Arica y Parinacota</td>\n",
       "      <td>15</td>\n",
       "      <td>Camarones</td>\n",
       "      <td>15102.0</td>\n",
       "      <td>1233.0</td>\n",
       "      <td>70.0</td>\n",
       "    </tr>\n",
       "    <tr>\n",
       "      <th>2</th>\n",
       "      <td>Arica y Parinacota</td>\n",
       "      <td>15</td>\n",
       "      <td>General Lagos</td>\n",
       "      <td>15202.0</td>\n",
       "      <td>810.0</td>\n",
       "      <td>88.0</td>\n",
       "    </tr>\n",
       "    <tr>\n",
       "      <th>3</th>\n",
       "      <td>Arica y Parinacota</td>\n",
       "      <td>15</td>\n",
       "      <td>Putre</td>\n",
       "      <td>15201.0</td>\n",
       "      <td>2515.0</td>\n",
       "      <td>213.0</td>\n",
       "    </tr>\n",
       "    <tr>\n",
       "      <th>4</th>\n",
       "      <td>Arica y Parinacota</td>\n",
       "      <td>15</td>\n",
       "      <td>Desconocido Arica y Parinacota</td>\n",
       "      <td>NaN</td>\n",
       "      <td>NaN</td>\n",
       "      <td>175.0</td>\n",
       "    </tr>\n",
       "  </tbody>\n",
       "</table>\n",
       "</div>"
      ],
      "text/plain": [
       "               Region  Codigo region                          Comuna  \\\n",
       "0  Arica y Parinacota             15                           Arica   \n",
       "1  Arica y Parinacota             15                       Camarones   \n",
       "2  Arica y Parinacota             15                   General Lagos   \n",
       "3  Arica y Parinacota             15                           Putre   \n",
       "4  Arica y Parinacota             15  Desconocido Arica y Parinacota   \n",
       "\n",
       "   Codigo comuna  Poblacion  Casos Confirmados  \n",
       "0        15101.0   247552.0            30536.0  \n",
       "1        15102.0     1233.0               70.0  \n",
       "2        15202.0      810.0               88.0  \n",
       "3        15201.0     2515.0              213.0  \n",
       "4            NaN        NaN              175.0  "
      ]
     },
     "execution_count": 23,
     "metadata": {},
     "output_type": "execute_result"
    }
   ],
   "source": [
    "df = pd.read_csv('casosConfirmados.csv')\n",
    "df.head()"
   ]
  },
  {
   "cell_type": "markdown",
   "id": "f6a229a1",
   "metadata": {},
   "source": [
    "¿Qué información tenemos ? (responder en base a más información y mirando la data)\n",
    "\n",
    "R: Tenemos información el número de la población y los casos confirmados del país, en base a las comunas y regiones."
   ]
  },
  {
   "cell_type": "code",
   "execution_count": 24,
   "id": "186b7257",
   "metadata": {},
   "outputs": [
    {
     "data": {
      "text/html": [
       "<div>\n",
       "<style scoped>\n",
       "    .dataframe tbody tr th:only-of-type {\n",
       "        vertical-align: middle;\n",
       "    }\n",
       "\n",
       "    .dataframe tbody tr th {\n",
       "        vertical-align: top;\n",
       "    }\n",
       "\n",
       "    .dataframe thead th {\n",
       "        text-align: right;\n",
       "    }\n",
       "</style>\n",
       "<table border=\"1\" class=\"dataframe\">\n",
       "  <thead>\n",
       "    <tr style=\"text-align: right;\">\n",
       "      <th></th>\n",
       "      <th>Region</th>\n",
       "      <th>Codigo region</th>\n",
       "      <th>Comuna</th>\n",
       "      <th>Codigo comuna</th>\n",
       "      <th>Poblacion</th>\n",
       "      <th>Casos Confirmados</th>\n",
       "    </tr>\n",
       "  </thead>\n",
       "  <tbody>\n",
       "    <tr>\n",
       "      <th>33</th>\n",
       "      <td>Coquimbo</td>\n",
       "      <td>4</td>\n",
       "      <td>Andacollo</td>\n",
       "      <td>4103.0</td>\n",
       "      <td>11791.0</td>\n",
       "      <td>621.0</td>\n",
       "    </tr>\n",
       "  </tbody>\n",
       "</table>\n",
       "</div>"
      ],
      "text/plain": [
       "      Region  Codigo region     Comuna  Codigo comuna  Poblacion  \\\n",
       "33  Coquimbo              4  Andacollo         4103.0    11791.0   \n",
       "\n",
       "    Casos Confirmados  \n",
       "33              621.0  "
      ]
     },
     "execution_count": 24,
     "metadata": {},
     "output_type": "execute_result"
    }
   ],
   "source": [
    "df[df[\"Comuna\"] ==  \"Andacollo\"] "
   ]
  },
  {
   "cell_type": "markdown",
   "id": "626b1392",
   "metadata": {},
   "source": [
    "El código de la comuna de Andacollo es 4103."
   ]
  },
  {
   "cell_type": "code",
   "execution_count": 25,
   "id": "a7c7dfbb",
   "metadata": {},
   "outputs": [
    {
     "data": {
      "text/html": [
       "<div>\n",
       "<style scoped>\n",
       "    .dataframe tbody tr th:only-of-type {\n",
       "        vertical-align: middle;\n",
       "    }\n",
       "\n",
       "    .dataframe tbody tr th {\n",
       "        vertical-align: top;\n",
       "    }\n",
       "\n",
       "    .dataframe thead th {\n",
       "        text-align: right;\n",
       "    }\n",
       "</style>\n",
       "<table border=\"1\" class=\"dataframe\">\n",
       "  <thead>\n",
       "    <tr style=\"text-align: right;\">\n",
       "      <th></th>\n",
       "      <th>Region</th>\n",
       "      <th>Codigo region</th>\n",
       "      <th>Comuna</th>\n",
       "      <th>Codigo comuna</th>\n",
       "      <th>Poblacion</th>\n",
       "      <th>Casos Confirmados</th>\n",
       "    </tr>\n",
       "  </thead>\n",
       "  <tbody>\n",
       "    <tr>\n",
       "      <th>351</th>\n",
       "      <td>Magallanes</td>\n",
       "      <td>12</td>\n",
       "      <td>Cabo de Hornos</td>\n",
       "      <td>12201.0</td>\n",
       "      <td>1983.0</td>\n",
       "      <td>370.0</td>\n",
       "    </tr>\n",
       "  </tbody>\n",
       "</table>\n",
       "</div>"
      ],
      "text/plain": [
       "         Region  Codigo region          Comuna  Codigo comuna  Poblacion  \\\n",
       "351  Magallanes             12  Cabo de Hornos        12201.0     1983.0   \n",
       "\n",
       "     Casos Confirmados  \n",
       "351              370.0  "
      ]
     },
     "execution_count": 25,
     "metadata": {},
     "output_type": "execute_result"
    }
   ],
   "source": [
    "df[df[\"Comuna\"] ==  \"Cabo de Hornos\"]"
   ]
  },
  {
   "cell_type": "markdown",
   "id": "8469a1bd",
   "metadata": {},
   "source": [
    "El código de la comuna de Andacollo es 12201."
   ]
  },
  {
   "cell_type": "markdown",
   "id": "0ca8107b",
   "metadata": {},
   "source": [
    "¿A qué región pertenece la comuna de Sagrada Familia?"
   ]
  },
  {
   "cell_type": "code",
   "execution_count": 26,
   "id": "09144fcf",
   "metadata": {},
   "outputs": [
    {
     "data": {
      "text/html": [
       "<div>\n",
       "<style scoped>\n",
       "    .dataframe tbody tr th:only-of-type {\n",
       "        vertical-align: middle;\n",
       "    }\n",
       "\n",
       "    .dataframe tbody tr th {\n",
       "        vertical-align: top;\n",
       "    }\n",
       "\n",
       "    .dataframe thead th {\n",
       "        text-align: right;\n",
       "    }\n",
       "</style>\n",
       "<table border=\"1\" class=\"dataframe\">\n",
       "  <thead>\n",
       "    <tr style=\"text-align: right;\">\n",
       "      <th></th>\n",
       "      <th>Region</th>\n",
       "      <th>Codigo region</th>\n",
       "      <th>Comuna</th>\n",
       "      <th>Codigo comuna</th>\n",
       "      <th>Poblacion</th>\n",
       "      <th>Casos Confirmados</th>\n",
       "    </tr>\n",
       "  </thead>\n",
       "  <tbody>\n",
       "    <tr>\n",
       "      <th>196</th>\n",
       "      <td>Maule</td>\n",
       "      <td>7</td>\n",
       "      <td>Sagrada Familia</td>\n",
       "      <td>7307.0</td>\n",
       "      <td>19469.0</td>\n",
       "      <td>1550.0</td>\n",
       "    </tr>\n",
       "  </tbody>\n",
       "</table>\n",
       "</div>"
      ],
      "text/plain": [
       "    Region  Codigo region           Comuna  Codigo comuna  Poblacion  \\\n",
       "196  Maule              7  Sagrada Familia         7307.0    19469.0   \n",
       "\n",
       "     Casos Confirmados  \n",
       "196             1550.0  "
      ]
     },
     "execution_count": 26,
     "metadata": {},
     "output_type": "execute_result"
    }
   ],
   "source": [
    "df[df[\"Comuna\"] ==  \"Sagrada Familia\"]"
   ]
  },
  {
   "cell_type": "markdown",
   "id": "4f6fa5b1",
   "metadata": {},
   "source": [
    "Pertenece a la región del maule."
   ]
  },
  {
   "cell_type": "markdown",
   "id": "3e8dfb40",
   "metadata": {},
   "source": [
    "¿A qué región pertenece el código de comuna 6304?"
   ]
  },
  {
   "cell_type": "code",
   "execution_count": 27,
   "id": "147e39b2",
   "metadata": {},
   "outputs": [
    {
     "data": {
      "text/html": [
       "<div>\n",
       "<style scoped>\n",
       "    .dataframe tbody tr th:only-of-type {\n",
       "        vertical-align: middle;\n",
       "    }\n",
       "\n",
       "    .dataframe tbody tr th {\n",
       "        vertical-align: top;\n",
       "    }\n",
       "\n",
       "    .dataframe thead th {\n",
       "        text-align: right;\n",
       "    }\n",
       "</style>\n",
       "<table border=\"1\" class=\"dataframe\">\n",
       "  <thead>\n",
       "    <tr style=\"text-align: right;\">\n",
       "      <th></th>\n",
       "      <th>Region</th>\n",
       "      <th>Codigo region</th>\n",
       "      <th>Comuna</th>\n",
       "      <th>Codigo comuna</th>\n",
       "      <th>Poblacion</th>\n",
       "      <th>Casos Confirmados</th>\n",
       "    </tr>\n",
       "  </thead>\n",
       "  <tbody>\n",
       "    <tr>\n",
       "      <th>151</th>\n",
       "      <td>O’Higgins</td>\n",
       "      <td>6</td>\n",
       "      <td>Lolol</td>\n",
       "      <td>6304.0</td>\n",
       "      <td>7289.0</td>\n",
       "      <td>311.0</td>\n",
       "    </tr>\n",
       "  </tbody>\n",
       "</table>\n",
       "</div>"
      ],
      "text/plain": [
       "        Region  Codigo region Comuna  Codigo comuna  Poblacion  \\\n",
       "151  O’Higgins              6  Lolol         6304.0     7289.0   \n",
       "\n",
       "     Casos Confirmados  \n",
       "151              311.0  "
      ]
     },
     "execution_count": 27,
     "metadata": {},
     "output_type": "execute_result"
    }
   ],
   "source": [
    "df[df[\"Codigo comuna\"] ==  6304]"
   ]
  },
  {
   "cell_type": "markdown",
   "id": "1a373724",
   "metadata": {},
   "source": [
    "Pertenece a la región de O'Higgins."
   ]
  },
  {
   "cell_type": "code",
   "execution_count": 28,
   "id": "52767653",
   "metadata": {},
   "outputs": [],
   "source": [
    "filter_df = df[[\"Region\", \"Poblacion\", \"Casos Confirmados\"]].groupby('Region', sort = False).sum()"
   ]
  },
  {
   "cell_type": "code",
   "execution_count": 29,
   "id": "1176583d",
   "metadata": {},
   "outputs": [
    {
     "data": {
      "text/html": [
       "<div>\n",
       "<style scoped>\n",
       "    .dataframe tbody tr th:only-of-type {\n",
       "        vertical-align: middle;\n",
       "    }\n",
       "\n",
       "    .dataframe tbody tr th {\n",
       "        vertical-align: top;\n",
       "    }\n",
       "\n",
       "    .dataframe thead th {\n",
       "        text-align: right;\n",
       "    }\n",
       "</style>\n",
       "<table border=\"1\" class=\"dataframe\">\n",
       "  <thead>\n",
       "    <tr style=\"text-align: right;\">\n",
       "      <th></th>\n",
       "      <th>Poblacion</th>\n",
       "      <th>Casos Confirmados</th>\n",
       "      <th>Tasa de Contagio</th>\n",
       "    </tr>\n",
       "    <tr>\n",
       "      <th>Region</th>\n",
       "      <th></th>\n",
       "      <th></th>\n",
       "      <th></th>\n",
       "    </tr>\n",
       "  </thead>\n",
       "  <tbody>\n",
       "    <tr>\n",
       "      <th>Arica y Parinacota</th>\n",
       "      <td>252110.0</td>\n",
       "      <td>31082.0</td>\n",
       "      <td>12.328745</td>\n",
       "    </tr>\n",
       "    <tr>\n",
       "      <th>Tarapacá</th>\n",
       "      <td>382773.0</td>\n",
       "      <td>51218.0</td>\n",
       "      <td>13.380777</td>\n",
       "    </tr>\n",
       "    <tr>\n",
       "      <th>Antofagasta</th>\n",
       "      <td>691854.0</td>\n",
       "      <td>67172.0</td>\n",
       "      <td>9.708985</td>\n",
       "    </tr>\n",
       "    <tr>\n",
       "      <th>Atacama</th>\n",
       "      <td>314709.0</td>\n",
       "      <td>29132.0</td>\n",
       "      <td>9.256805</td>\n",
       "    </tr>\n",
       "    <tr>\n",
       "      <th>Coquimbo</th>\n",
       "      <td>836096.0</td>\n",
       "      <td>58212.0</td>\n",
       "      <td>6.962358</td>\n",
       "    </tr>\n",
       "    <tr>\n",
       "      <th>Valparaíso</th>\n",
       "      <td>1960170.0</td>\n",
       "      <td>174153.0</td>\n",
       "      <td>8.884587</td>\n",
       "    </tr>\n",
       "    <tr>\n",
       "      <th>Metropolitana</th>\n",
       "      <td>8125072.0</td>\n",
       "      <td>843854.0</td>\n",
       "      <td>10.385803</td>\n",
       "    </tr>\n",
       "    <tr>\n",
       "      <th>O’Higgins</th>\n",
       "      <td>991063.0</td>\n",
       "      <td>84282.0</td>\n",
       "      <td>8.504202</td>\n",
       "    </tr>\n",
       "    <tr>\n",
       "      <th>Maule</th>\n",
       "      <td>1131939.0</td>\n",
       "      <td>112587.0</td>\n",
       "      <td>9.946384</td>\n",
       "    </tr>\n",
       "    <tr>\n",
       "      <th>Ñuble</th>\n",
       "      <td>511551.0</td>\n",
       "      <td>46310.0</td>\n",
       "      <td>9.052861</td>\n",
       "    </tr>\n",
       "    <tr>\n",
       "      <th>Biobío</th>\n",
       "      <td>1663696.0</td>\n",
       "      <td>186496.0</td>\n",
       "      <td>11.209740</td>\n",
       "    </tr>\n",
       "    <tr>\n",
       "      <th>Araucanía</th>\n",
       "      <td>1014343.0</td>\n",
       "      <td>109836.0</td>\n",
       "      <td>10.828290</td>\n",
       "    </tr>\n",
       "    <tr>\n",
       "      <th>Los Ríos</th>\n",
       "      <td>405835.0</td>\n",
       "      <td>55713.0</td>\n",
       "      <td>13.727993</td>\n",
       "    </tr>\n",
       "    <tr>\n",
       "      <th>Los Lagos</th>\n",
       "      <td>891440.0</td>\n",
       "      <td>104067.0</td>\n",
       "      <td>11.674033</td>\n",
       "    </tr>\n",
       "    <tr>\n",
       "      <th>Aysén</th>\n",
       "      <td>107297.0</td>\n",
       "      <td>9959.0</td>\n",
       "      <td>9.281713</td>\n",
       "    </tr>\n",
       "    <tr>\n",
       "      <th>Magallanes</th>\n",
       "      <td>178362.0</td>\n",
       "      <td>32718.0</td>\n",
       "      <td>18.343593</td>\n",
       "    </tr>\n",
       "  </tbody>\n",
       "</table>\n",
       "</div>"
      ],
      "text/plain": [
       "                    Poblacion  Casos Confirmados  Tasa de Contagio\n",
       "Region                                                            \n",
       "Arica y Parinacota   252110.0            31082.0         12.328745\n",
       "Tarapacá             382773.0            51218.0         13.380777\n",
       "Antofagasta          691854.0            67172.0          9.708985\n",
       "Atacama              314709.0            29132.0          9.256805\n",
       "Coquimbo             836096.0            58212.0          6.962358\n",
       "Valparaíso          1960170.0           174153.0          8.884587\n",
       "Metropolitana       8125072.0           843854.0         10.385803\n",
       "O’Higgins            991063.0            84282.0          8.504202\n",
       "Maule               1131939.0           112587.0          9.946384\n",
       "Ñuble                511551.0            46310.0          9.052861\n",
       "Biobío              1663696.0           186496.0         11.209740\n",
       "Araucanía           1014343.0           109836.0         10.828290\n",
       "Los Ríos             405835.0            55713.0         13.727993\n",
       "Los Lagos            891440.0           104067.0         11.674033\n",
       "Aysén                107297.0             9959.0          9.281713\n",
       "Magallanes           178362.0            32718.0         18.343593"
      ]
     },
     "execution_count": 29,
     "metadata": {},
     "output_type": "execute_result"
    }
   ],
   "source": [
    "filter_df['Tasa de Contagio'] = (filter_df[\"Casos Confirmados\"] / filter_df[\"Poblacion\"]) * 100\n",
    "filter_df"
   ]
  },
  {
   "cell_type": "code",
   "execution_count": 30,
   "id": "df7ca527",
   "metadata": {},
   "outputs": [
    {
     "data": {
      "text/plain": [
       "19458310.0"
      ]
     },
     "execution_count": 30,
     "metadata": {},
     "output_type": "execute_result"
    }
   ],
   "source": [
    "filter_df[\"Poblacion\"].sum()"
   ]
  },
  {
   "cell_type": "markdown",
   "id": "1514e73a",
   "metadata": {},
   "source": [
    "El total de la población es 19458310."
   ]
  },
  {
   "cell_type": "code",
   "execution_count": 31,
   "id": "1778b3ac",
   "metadata": {},
   "outputs": [
    {
     "data": {
      "image/png": "[encoded data removed]",
      "text/plain": [
       "<Figure size 432x288 with 1 Axes>"
      ]
     },
     "metadata": {
      "needs_background": "light"
     },
     "output_type": "display_data"
    }
   ],
   "source": [
    "plt.plot(list(filter_df.index), filter_df['Casos Confirmados'])\n",
    "plt.show() "
   ]
  },
  {
   "cell_type": "code",
   "execution_count": 32,
   "id": "eb62c8d9",
   "metadata": {},
   "outputs": [
    {
     "data": {
      "image/png": "[encoded data removed]",
      "text/plain": [
       "<Figure size 432x288 with 1 Axes>"
      ]
     },
     "metadata": {
      "needs_background": "light"
     },
     "output_type": "display_data"
    }
   ],
   "source": [
    "plt.plot(list(filter_df.index), filter_df['Tasa de Contagio'])\n",
    "plt.show() "
   ]
  },
  {
   "cell_type": "code",
   "execution_count": 33,
   "id": "501cf3b1",
   "metadata": {},
   "outputs": [
    {
     "data": {
      "text/html": [
       "<div>\n",
       "<style scoped>\n",
       "    .dataframe tbody tr th:only-of-type {\n",
       "        vertical-align: middle;\n",
       "    }\n",
       "\n",
       "    .dataframe tbody tr th {\n",
       "        vertical-align: top;\n",
       "    }\n",
       "\n",
       "    .dataframe thead th {\n",
       "        text-align: right;\n",
       "    }\n",
       "</style>\n",
       "<table border=\"1\" class=\"dataframe\">\n",
       "  <thead>\n",
       "    <tr style=\"text-align: right;\">\n",
       "      <th></th>\n",
       "      <th>Region</th>\n",
       "      <th>Codigo region</th>\n",
       "      <th>Comuna</th>\n",
       "      <th>Codigo comuna</th>\n",
       "      <th>Poblacion</th>\n",
       "      <th>Casos Confirmados</th>\n",
       "    </tr>\n",
       "  </thead>\n",
       "  <tbody>\n",
       "    <tr>\n",
       "      <th>175</th>\n",
       "      <td>Maule</td>\n",
       "      <td>7</td>\n",
       "      <td>Cauquenes</td>\n",
       "      <td>7201.0</td>\n",
       "      <td>44143.0</td>\n",
       "      <td>3163.0</td>\n",
       "    </tr>\n",
       "    <tr>\n",
       "      <th>176</th>\n",
       "      <td>Maule</td>\n",
       "      <td>7</td>\n",
       "      <td>Chanco</td>\n",
       "      <td>7202.0</td>\n",
       "      <td>9331.0</td>\n",
       "      <td>560.0</td>\n",
       "    </tr>\n",
       "    <tr>\n",
       "      <th>177</th>\n",
       "      <td>Maule</td>\n",
       "      <td>7</td>\n",
       "      <td>Colbun</td>\n",
       "      <td>7402.0</td>\n",
       "      <td>22565.0</td>\n",
       "      <td>2390.0</td>\n",
       "    </tr>\n",
       "    <tr>\n",
       "      <th>178</th>\n",
       "      <td>Maule</td>\n",
       "      <td>7</td>\n",
       "      <td>Constitucion</td>\n",
       "      <td>7102.0</td>\n",
       "      <td>50348.0</td>\n",
       "      <td>5095.0</td>\n",
       "    </tr>\n",
       "    <tr>\n",
       "      <th>179</th>\n",
       "      <td>Maule</td>\n",
       "      <td>7</td>\n",
       "      <td>Curepto</td>\n",
       "      <td>7103.0</td>\n",
       "      <td>9426.0</td>\n",
       "      <td>670.0</td>\n",
       "    </tr>\n",
       "  </tbody>\n",
       "</table>\n",
       "</div>"
      ],
      "text/plain": [
       "    Region  Codigo region        Comuna  Codigo comuna  Poblacion  \\\n",
       "175  Maule              7     Cauquenes         7201.0    44143.0   \n",
       "176  Maule              7        Chanco         7202.0     9331.0   \n",
       "177  Maule              7        Colbun         7402.0    22565.0   \n",
       "178  Maule              7  Constitucion         7102.0    50348.0   \n",
       "179  Maule              7       Curepto         7103.0     9426.0   \n",
       "\n",
       "     Casos Confirmados  \n",
       "175             3163.0  \n",
       "176              560.0  \n",
       "177             2390.0  \n",
       "178             5095.0  \n",
       "179              670.0  "
      ]
     },
     "execution_count": 33,
     "metadata": {},
     "output_type": "execute_result"
    }
   ],
   "source": [
    "df_maule = df[df[\"Region\"] == \"Maule\"]\n",
    "df_maule.head()"
   ]
  },
  {
   "cell_type": "code",
   "execution_count": 34,
   "id": "c4875f74",
   "metadata": {},
   "outputs": [
    {
     "data": {
      "text/html": [
       "<div>\n",
       "<style scoped>\n",
       "    .dataframe tbody tr th:only-of-type {\n",
       "        vertical-align: middle;\n",
       "    }\n",
       "\n",
       "    .dataframe tbody tr th {\n",
       "        vertical-align: top;\n",
       "    }\n",
       "\n",
       "    .dataframe thead th {\n",
       "        text-align: right;\n",
       "    }\n",
       "</style>\n",
       "<table border=\"1\" class=\"dataframe\">\n",
       "  <thead>\n",
       "    <tr style=\"text-align: right;\">\n",
       "      <th></th>\n",
       "      <th>Casos Confirmados</th>\n",
       "    </tr>\n",
       "  </thead>\n",
       "  <tbody>\n",
       "    <tr>\n",
       "      <th>count</th>\n",
       "      <td>31.000000</td>\n",
       "    </tr>\n",
       "    <tr>\n",
       "      <th>mean</th>\n",
       "      <td>3631.838710</td>\n",
       "    </tr>\n",
       "    <tr>\n",
       "      <th>std</th>\n",
       "      <td>5075.955812</td>\n",
       "    </tr>\n",
       "    <tr>\n",
       "      <th>min</th>\n",
       "      <td>85.000000</td>\n",
       "    </tr>\n",
       "    <tr>\n",
       "      <th>25%</th>\n",
       "      <td>843.000000</td>\n",
       "    </tr>\n",
       "    <tr>\n",
       "      <th>50%</th>\n",
       "      <td>1779.000000</td>\n",
       "    </tr>\n",
       "    <tr>\n",
       "      <th>75%</th>\n",
       "      <td>4570.000000</td>\n",
       "    </tr>\n",
       "    <tr>\n",
       "      <th>max</th>\n",
       "      <td>21787.000000</td>\n",
       "    </tr>\n",
       "  </tbody>\n",
       "</table>\n",
       "</div>"
      ],
      "text/plain": [
       "       Casos Confirmados\n",
       "count          31.000000\n",
       "mean         3631.838710\n",
       "std          5075.955812\n",
       "min            85.000000\n",
       "25%           843.000000\n",
       "50%          1779.000000\n",
       "75%          4570.000000\n",
       "max         21787.000000"
      ]
     },
     "execution_count": 34,
     "metadata": {},
     "output_type": "execute_result"
    }
   ],
   "source": [
    "df_maule[[\"Comuna\", \"Casos Confirmados\"]].describe()"
   ]
  },
  {
   "cell_type": "code",
   "execution_count": 35,
   "id": "2829a288",
   "metadata": {},
   "outputs": [
    {
     "data": {
      "text/plain": [
       "3631.8387096774195"
      ]
     },
     "execution_count": 35,
     "metadata": {},
     "output_type": "execute_result"
    }
   ],
   "source": [
    "df_maule[\"Casos Confirmados\"].mean()"
   ]
  },
  {
   "cell_type": "markdown",
   "id": "1404ec8b",
   "metadata": {},
   "source": [
    "El promedio con mean tiene un mayor grado de precision porque agrega más decimales pero en el general es el mismo en ambos "
   ]
  }
 ],
 "metadata": {
  "kernelspec": {
   "display_name": "Python 3 (ipykernel)",
   "language": "python",
   "name": "python3"
  },
  "language_info": {
   "codemirror_mode": {
    "name": "ipython",
    "version": 3
   },
   "file_extension": ".py",
   "mimetype": "text/x-python",
   "name": "python",
   "nbconvert_exporter": "python",
   "pygments_lexer": "ipython3",
   "version": "3.9.7"
  }
 },
 "nbformat": 4,
 "nbformat_minor": 5
}
